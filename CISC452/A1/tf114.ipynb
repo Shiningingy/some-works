{
  "nbformat": 4,
  "nbformat_minor": 0,
  "metadata": {
    "colab": {
      "name": "tf114",
      "version": "0.3.2",
      "provenance": [],
      "collapsed_sections": []
    },
    "kernelspec": {
      "name": "python3",
      "display_name": "Python 3"
    },
    "accelerator": "GPU"
  },
  "cells": [
    {
      "cell_type": "markdown",
      "metadata": {
        "id": "zYNI1X-E09Hg",
        "colab_type": "text"
      },
      "source": [
        "# Tutorial For Tensorflow 1.14(stable) (1.x) CISC/CMPE 452 / CISC 874 / COGS 400\n",
        "\n",
        "This tutorial is split into two parts. The first part will go over a simple linear function optimization using tensorflow. The second part will go over using tensorflow 1.14 to solve the MNIST DIGIT classification challenge and has a useful example of how to load the data for MNIST into your python environment using tensorflow/keras.\n",
        "\n",
        "In Tensorflow 1.14, the majority of the environment is in 'Graph Execution'. This means that, unlike typical python, it is a define then run environment. You can enable Eager Execution in order to be able to quickly debug, but rest assured that Graph Execution is exceptionally fast and optimization is easy. \n",
        "\n",
        "Finally, I recommend always having the API for Tensorflow 1.14(stable) up while coding, so here it is: [TF-1.14(stable)](https://www.tensorflow.org/api_docs/python/tf)"
      ]
    },
    {
      "cell_type": "code",
      "metadata": {
        "id": "J6_toBo_3fUs",
        "colab_type": "code",
        "outputId": "10dd1282-9968-4df9-b0b1-676a03d28c6c",
        "colab": {
          "base_uri": "https://localhost:8080/",
          "height": 482
        }
      },
      "source": [
        "!pip install tensorflow-gpu==1.14.0 numpy matplotlib tqdm --no-cache-dir"
      ],
      "execution_count": 0,
      "outputs": [
        {
          "output_type": "stream",
          "text": [
            "Requirement already satisfied: tensorflow-gpu==1.14.0 in /usr/local/lib/python3.6/dist-packages (1.14.0)\n",
            "Requirement already satisfied: numpy in /usr/local/lib/python3.6/dist-packages (1.16.5)\n",
            "Requirement already satisfied: matplotlib in /usr/local/lib/python3.6/dist-packages (3.0.3)\n",
            "Requirement already satisfied: tqdm in /usr/local/lib/python3.6/dist-packages (4.28.1)\n",
            "Requirement already satisfied: six>=1.10.0 in /usr/local/lib/python3.6/dist-packages (from tensorflow-gpu==1.14.0) (1.12.0)\n",
            "Requirement already satisfied: tensorflow-estimator<1.15.0rc0,>=1.14.0rc0 in /usr/local/lib/python3.6/dist-packages (from tensorflow-gpu==1.14.0) (1.14.0)\n",
            "Requirement already satisfied: keras-applications>=1.0.6 in /usr/local/lib/python3.6/dist-packages (from tensorflow-gpu==1.14.0) (1.0.8)\n",
            "Requirement already satisfied: keras-preprocessing>=1.0.5 in /usr/local/lib/python3.6/dist-packages (from tensorflow-gpu==1.14.0) (1.1.0)\n",
            "Requirement already satisfied: astor>=0.6.0 in /usr/local/lib/python3.6/dist-packages (from tensorflow-gpu==1.14.0) (0.8.0)\n",
            "Requirement already satisfied: wheel>=0.26 in /usr/local/lib/python3.6/dist-packages (from tensorflow-gpu==1.14.0) (0.33.6)\n",
            "Requirement already satisfied: grpcio>=1.8.6 in /usr/local/lib/python3.6/dist-packages (from tensorflow-gpu==1.14.0) (1.15.0)\n",
            "Requirement already satisfied: google-pasta>=0.1.6 in /usr/local/lib/python3.6/dist-packages (from tensorflow-gpu==1.14.0) (0.1.7)\n",
            "Requirement already satisfied: tensorboard<1.15.0,>=1.14.0 in /usr/local/lib/python3.6/dist-packages (from tensorflow-gpu==1.14.0) (1.14.0)\n",
            "Requirement already satisfied: gast>=0.2.0 in /usr/local/lib/python3.6/dist-packages (from tensorflow-gpu==1.14.0) (0.2.2)\n",
            "Requirement already satisfied: wrapt>=1.11.1 in /usr/local/lib/python3.6/dist-packages (from tensorflow-gpu==1.14.0) (1.11.2)\n",
            "Requirement already satisfied: protobuf>=3.6.1 in /usr/local/lib/python3.6/dist-packages (from tensorflow-gpu==1.14.0) (3.7.1)\n",
            "Requirement already satisfied: termcolor>=1.1.0 in /usr/local/lib/python3.6/dist-packages (from tensorflow-gpu==1.14.0) (1.1.0)\n",
            "Requirement already satisfied: absl-py>=0.7.0 in /usr/local/lib/python3.6/dist-packages (from tensorflow-gpu==1.14.0) (0.8.0)\n",
            "Requirement already satisfied: pyparsing!=2.0.4,!=2.1.2,!=2.1.6,>=2.0.1 in /usr/local/lib/python3.6/dist-packages (from matplotlib) (2.4.2)\n",
            "Requirement already satisfied: python-dateutil>=2.1 in /usr/local/lib/python3.6/dist-packages (from matplotlib) (2.5.3)\n",
            "Requirement already satisfied: kiwisolver>=1.0.1 in /usr/local/lib/python3.6/dist-packages (from matplotlib) (1.1.0)\n",
            "Requirement already satisfied: cycler>=0.10 in /usr/local/lib/python3.6/dist-packages (from matplotlib) (0.10.0)\n",
            "Requirement already satisfied: h5py in /usr/local/lib/python3.6/dist-packages (from keras-applications>=1.0.6->tensorflow-gpu==1.14.0) (2.8.0)\n",
            "Requirement already satisfied: setuptools>=41.0.0 in /usr/local/lib/python3.6/dist-packages (from tensorboard<1.15.0,>=1.14.0->tensorflow-gpu==1.14.0) (41.2.0)\n",
            "Requirement already satisfied: markdown>=2.6.8 in /usr/local/lib/python3.6/dist-packages (from tensorboard<1.15.0,>=1.14.0->tensorflow-gpu==1.14.0) (3.1.1)\n",
            "Requirement already satisfied: werkzeug>=0.11.15 in /usr/local/lib/python3.6/dist-packages (from tensorboard<1.15.0,>=1.14.0->tensorflow-gpu==1.14.0) (0.15.6)\n"
          ],
          "name": "stdout"
        }
      ]
    },
    {
      "cell_type": "code",
      "metadata": {
        "id": "HNAbiSob3jVt",
        "colab_type": "code",
        "outputId": "c814f7e8-5c34-4444-a8c2-c95dff2ad4de",
        "colab": {
          "base_uri": "https://localhost:8080/",
          "height": 35
        }
      },
      "source": [
        "import tensorflow as tf\n",
        "import numpy as np\n",
        "import matplotlib.pyplot as plt\n",
        "from tqdm import tqdm\n",
        "print(tf.__version__)"
      ],
      "execution_count": 0,
      "outputs": [
        {
          "output_type": "stream",
          "text": [
            "1.14.0\n"
          ],
          "name": "stdout"
        }
      ]
    },
    {
      "cell_type": "markdown",
      "metadata": {
        "id": "yebFNrdo17jM",
        "colab_type": "text"
      },
      "source": [
        "# Linear Function Optimization\n",
        "\n",
        "This section goes over creating a small dataset of a noisy linear function and using tensorflow 1.14 to solve it."
      ]
    },
    {
      "cell_type": "code",
      "metadata": {
        "id": "L3JwLwNJ3mcd",
        "colab_type": "code",
        "outputId": "102dd85c-9720-4484-c796-708a15e3943c",
        "colab": {
          "base_uri": "https://localhost:8080/",
          "height": 35
        }
      },
      "source": [
        "X = np.random.normal(0.0,0.2,1000)\n",
        "noise = np.random.normal(0.0,0.45,1000)\n",
        "X.shape"
      ],
      "execution_count": 0,
      "outputs": [
        {
          "output_type": "execute_result",
          "data": {
            "text/plain": [
              "(1000,)"
            ]
          },
          "metadata": {
            "tags": []
          },
          "execution_count": 3
        }
      ]
    },
    {
      "cell_type": "code",
      "metadata": {
        "id": "JL6anSNl3p5J",
        "colab_type": "code",
        "outputId": "8631f0ba-e7ef-47ab-b5b4-e1dce8f802db",
        "colab": {
          "base_uri": "https://localhost:8080/",
          "height": 71
        }
      },
      "source": [
        "true_W = np.random.rand()*100\n",
        "true_B = np.random.rand()*100\n",
        "\n",
        "Y = true_W*X + true_B + noise\n",
        "print(\"True_W: \",true_W)\n",
        "print(\"True_B: \",true_B)\n",
        "print(\"Shape: \",Y.shape)"
      ],
      "execution_count": 0,
      "outputs": [
        {
          "output_type": "stream",
          "text": [
            "True_W:  47.3411455433012\n",
            "True_B:  63.38494315102007\n",
            "Shape:  (1000,)\n"
          ],
          "name": "stdout"
        }
      ]
    },
    {
      "cell_type": "code",
      "metadata": {
        "id": "cHnoqi7Z3qcM",
        "colab_type": "code",
        "outputId": "481a9fed-03f4-4eac-ead9-a96c759ab4ea",
        "colab": {
          "base_uri": "https://localhost:8080/",
          "height": 287
        }
      },
      "source": [
        "plt.plot(X[:],Y[:],'--')"
      ],
      "execution_count": 0,
      "outputs": [
        {
          "output_type": "execute_result",
          "data": {
            "text/plain": [
              "[<matplotlib.lines.Line2D at 0x7fd2f620e8d0>]"
            ]
          },
          "metadata": {
            "tags": []
          },
          "execution_count": 5
        },
        {
          "output_type": "display_data",
          "data": {
            "image/png": "[encoded data removed]",
            "text/plain": [
              "<Figure size 432x288 with 1 Axes>"
            ]
          },
          "metadata": {
            "tags": []
          }
        }
      ]
    },
    {
      "cell_type": "code",
      "metadata": {
        "id": "JoCCKh8U3ss6",
        "colab_type": "code",
        "colab": {}
      },
      "source": [
        "W = tf.Variable(1.0)\n",
        "B = tf.Variable(0.0)"
      ],
      "execution_count": 0,
      "outputs": []
    },
    {
      "cell_type": "code",
      "metadata": {
        "id": "n-z-OD824Hod",
        "colab_type": "code",
        "outputId": "b8c7e5d9-eb44-4d32-822c-bd36273f7fd0",
        "colab": {
          "base_uri": "https://localhost:8080/",
          "height": 53
        }
      },
      "source": [
        "data_X = tf.data.Dataset.from_tensor_slices(X.astype(np.float32))\n",
        "data_Y = tf.data.Dataset.from_tensor_slices(Y.astype(np.float32))\n",
        "dataset = tf.data.Dataset.zip((data_X,data_Y)).batch(32)\n",
        "print(data_X,data_Y)\n",
        "print(dataset)"
      ],
      "execution_count": 0,
      "outputs": [
        {
          "output_type": "stream",
          "text": [
            "<DatasetV1Adapter shapes: (), types: tf.float32> <DatasetV1Adapter shapes: (), types: tf.float32>\n",
            "<DatasetV1Adapter shapes: ((?,), (?,)), types: (tf.float32, tf.float32)>\n"
          ],
          "name": "stdout"
        }
      ]
    },
    {
      "cell_type": "code",
      "metadata": {
        "id": "n3mBAiQA4ffJ",
        "colab_type": "code",
        "outputId": "52938f34-2bfe-4798-f1aa-997f2218973b",
        "colab": {
          "base_uri": "https://localhost:8080/",
          "height": 91
        }
      },
      "source": [
        "iterator = dataset.make_initializable_iterator()\n",
        "X_t, Y_t = iterator.get_next()"
      ],
      "execution_count": 0,
      "outputs": [
        {
          "output_type": "stream",
          "text": [
            "WARNING:tensorflow:From <ipython-input-8-a3804bfd3883>:1: DatasetV1.make_initializable_iterator (from tensorflow.python.data.ops.dataset_ops) is deprecated and will be removed in a future version.\n",
            "Instructions for updating:\n",
            "Use `for ... in dataset:` to iterate over a dataset. If using `tf.estimator`, return the `Dataset` object directly from your input function. As a last resort, you can use `tf.compat.v1.data.make_initializable_iterator(dataset)`.\n"
          ],
          "name": "stdout"
        }
      ]
    },
    {
      "cell_type": "code",
      "metadata": {
        "id": "Gb5ighTN5Pjh",
        "colab_type": "code",
        "colab": {}
      },
      "source": [
        "pred_T = X_t*W + B\n",
        "loss_T = tf.reduce_mean(tf.square(Y_t - pred_T))\n"
      ],
      "execution_count": 0,
      "outputs": []
    },
    {
      "cell_type": "code",
      "metadata": {
        "id": "B-Tungkm6AOR",
        "colab_type": "code",
        "colab": {}
      },
      "source": [
        "optimizer = tf.train.AdamOptimizer(learning_rate=0.1)\n",
        "global_step = tf.train.get_global_step()\n",
        "\n",
        "grads = optimizer.compute_gradients(loss_T)\n",
        "train_op = optimizer.apply_gradients(grads,global_step=global_step)\n"
      ],
      "execution_count": 0,
      "outputs": []
    },
    {
      "cell_type": "code",
      "metadata": {
        "id": "FIbYILwI5Qqu",
        "colab_type": "code",
        "outputId": "495f2999-7463-479d-eccc-f4c2772d30c1",
        "colab": {
          "base_uri": "https://localhost:8080/",
          "height": 178
        }
      },
      "source": [
        "print(pred_T)\n",
        "print(loss_T)\n",
        "print(train_op)"
      ],
      "execution_count": 0,
      "outputs": [
        {
          "output_type": "stream",
          "text": [
            "Tensor(\"add:0\", shape=(?,), dtype=float32)\n",
            "Tensor(\"Mean:0\", shape=(), dtype=float32)\n",
            "name: \"Adam\"\n",
            "op: \"NoOp\"\n",
            "input: \"^Adam/update_Variable/ApplyAdam\"\n",
            "input: \"^Adam/update_Variable_1/ApplyAdam\"\n",
            "input: \"^Adam/Assign\"\n",
            "input: \"^Adam/Assign_1\"\n",
            "\n"
          ],
          "name": "stdout"
        }
      ]
    },
    {
      "cell_type": "code",
      "metadata": {
        "id": "vFa9Jhae5gKb",
        "colab_type": "code",
        "colab": {}
      },
      "source": [
        "sess = tf.Session()"
      ],
      "execution_count": 0,
      "outputs": []
    },
    {
      "cell_type": "code",
      "metadata": {
        "id": "bdsX_oYh5jx2",
        "colab_type": "code",
        "colab": {}
      },
      "source": [
        "sess.run(iterator.initializer)\n",
        "sess.run(tf.global_variables_initializer())"
      ],
      "execution_count": 0,
      "outputs": []
    },
    {
      "cell_type": "code",
      "metadata": {
        "id": "KAKuB0GR5oeE",
        "colab_type": "code",
        "outputId": "5e17b1c0-05d5-4ad7-ca53-2f79c08e1e3c",
        "colab": {
          "base_uri": "https://localhost:8080/",
          "height": 35
        }
      },
      "source": [
        "pbar = tqdm(range(100))\n",
        "for epoch in pbar:\n",
        "  sess.run(iterator.initializer)\n",
        "  while True:\n",
        "    try:\n",
        "      _, loss_val, W_val, B_val = sess.run([train_op,loss_T, W, B])\n",
        "    except:\n",
        "      break\n",
        "  pbar.set_description('Epoch %2d: W=%1.2f b=%1.2f, loss=%2.5f' %\n",
        "          (epoch, W_val, B_val, loss_val))"
      ],
      "execution_count": 0,
      "outputs": [
        {
          "output_type": "stream",
          "text": [
            "Epoch 99: W=47.55 b=63.41, loss=0.13183: 100%|██████████| 100/100 [00:04<00:00, 24.55it/s]\n"
          ],
          "name": "stderr"
        }
      ]
    },
    {
      "cell_type": "code",
      "metadata": {
        "id": "u9i25SDg7p7N",
        "colab_type": "code",
        "outputId": "78708342-08a1-44bc-bb80-68428ace283e",
        "colab": {
          "base_uri": "https://localhost:8080/",
          "height": 287
        }
      },
      "source": [
        "plt.plot(X,Y,'b*')\n",
        "inp_dict = tf.placeholder(tf.float32)\n",
        "o = W*inp_dict + B\n",
        "out = sess.run(o,feed_dict={inp_dict:X})\n",
        "plt.plot(X,out,'r--')"
      ],
      "execution_count": 0,
      "outputs": [
        {
          "output_type": "execute_result",
          "data": {
            "text/plain": [
              "[<matplotlib.lines.Line2D at 0x7fd2e03a9e80>]"
            ]
          },
          "metadata": {
            "tags": []
          },
          "execution_count": 15
        },
        {
          "output_type": "display_data",
          "data": {
            "image/png": "[encoded data removed]",
            "text/plain": [
              "<Figure size 432x288 with 1 Axes>"
            ]
          },
          "metadata": {
            "tags": []
          }
        }
      ]
    },
    {
      "cell_type": "code",
      "metadata": {
        "id": "Hqm-7SUR9HVE",
        "colab_type": "code",
        "colab": {}
      },
      "source": [
        "sess.close()\n",
        "tf.reset_default_graph()"
      ],
      "execution_count": 0,
      "outputs": []
    },
    {
      "cell_type": "markdown",
      "metadata": {
        "id": "LVmyztCq2CxO",
        "colab_type": "text"
      },
      "source": [
        "# MNIST Challenge\n",
        "\n",
        "This section uses tf.keras.datasets to load the MNIST dataset and TF-1.14 to optimize a simple neural network to solve the digit classification challenge. This is a quick and easy way to create custom models and custom training loops. "
      ]
    },
    {
      "cell_type": "code",
      "metadata": {
        "id": "U5DfOt7C98mW",
        "colab_type": "code",
        "outputId": "56a0518f-485a-4af5-e885-ff01c961d0a1",
        "colab": {
          "base_uri": "https://localhost:8080/",
          "height": 35
        }
      },
      "source": [
        "(train_x, train_y),(test_x,test_y) = tf.keras.datasets.mnist.load_data()\n",
        "num_classes = 10\n",
        "print(train_x.shape,train_y.shape,test_x.shape,test_y.shape)"
      ],
      "execution_count": 0,
      "outputs": [
        {
          "output_type": "stream",
          "text": [
            "(60000, 28, 28) (60000,) (10000, 28, 28) (10000,)\n"
          ],
          "name": "stdout"
        }
      ]
    },
    {
      "cell_type": "code",
      "metadata": {
        "id": "I64B1ou6mxMv",
        "colab_type": "code",
        "outputId": "5d9f2d78-6497-4c68-c87b-a8c3c78e820c",
        "colab": {
          "base_uri": "https://localhost:8080/",
          "height": 35
        }
      },
      "source": [
        "inp_t = tf.placeholder(tf.float32,[None, 28,28,1])\n",
        "target_t = tf.placeholder(tf.int32,[None,1])\n",
        "target_logits = tf.squeeze(tf.one_hot(target_t,num_classes),axis=1)\n",
        "print(inp_t,target_logits)"
      ],
      "execution_count": 0,
      "outputs": [
        {
          "output_type": "stream",
          "text": [
            "Tensor(\"Placeholder:0\", shape=(?, 28, 28, 1), dtype=float32) Tensor(\"Squeeze:0\", shape=(?, 10), dtype=float32)\n"
          ],
          "name": "stdout"
        }
      ]
    },
    {
      "cell_type": "code",
      "metadata": {
        "id": "UoIKxJ8sn0K1",
        "colab_type": "code",
        "outputId": "8247f6ac-a648-47a4-af13-75885ba07111",
        "colab": {
          "base_uri": "https://localhost:8080/",
          "height": 412
        }
      },
      "source": [
        "\n",
        "x = tf.layers.conv2d(inp_t,32,[3,3],padding='same')\n",
        "x = tf.layers.batch_normalization(x)\n",
        "x = tf.layers.max_pooling2d(x,2,2)\n",
        "f = tf.layers.flatten(x)\n",
        "logits_t = tf.layers.dense(f,10)\n",
        "pred_t = tf.argmax(tf.nn.softmax(logits_t,axis=-1),axis=-1)\n",
        "loss_t = tf.losses.softmax_cross_entropy(target_logits,logits_t)\n",
        "\n",
        "optimizer = tf.train.AdamOptimizer(learning_rate=0.001)\n",
        "global_step = tf.train.get_global_step()\n",
        "\n",
        "gradients, variables = zip(*optimizer.compute_gradients(loss_t))\n",
        "gradients = [ None if gradient is None else tf.clip_by_value(gradient, -1,1)\n",
        "    for gradient in gradients]\n",
        "gvs = zip(gradients,variables)\n",
        "train_op = optimizer.apply_gradients(gvs,global_step=global_step)\n",
        "\n",
        "acc_t, acc_update = tf.metrics.accuracy(target_t,pred_t)"
      ],
      "execution_count": 0,
      "outputs": [
        {
          "output_type": "stream",
          "text": [
            "WARNING:tensorflow:From <ipython-input-19-3234ae67ec70>:2: conv2d (from tensorflow.python.layers.convolutional) is deprecated and will be removed in a future version.\n",
            "Instructions for updating:\n",
            "Use `tf.keras.layers.Conv2D` instead.\n",
            "WARNING:tensorflow:From /usr/local/lib/python3.6/dist-packages/tensorflow/python/ops/init_ops.py:1251: calling VarianceScaling.__init__ (from tensorflow.python.ops.init_ops) with dtype is deprecated and will be removed in a future version.\n",
            "Instructions for updating:\n",
            "Call initializer instance with the dtype argument instead of passing it to the constructor\n",
            "WARNING:tensorflow:From <ipython-input-19-3234ae67ec70>:3: batch_normalization (from tensorflow.python.layers.normalization) is deprecated and will be removed in a future version.\n",
            "Instructions for updating:\n",
            "Use keras.layers.BatchNormalization instead.  In particular, `tf.control_dependencies(tf.GraphKeys.UPDATE_OPS)` should not be used (consult the `tf.keras.layers.batch_normalization` documentation).\n",
            "WARNING:tensorflow:From <ipython-input-19-3234ae67ec70>:4: max_pooling2d (from tensorflow.python.layers.pooling) is deprecated and will be removed in a future version.\n",
            "Instructions for updating:\n",
            "Use keras.layers.MaxPooling2D instead.\n",
            "WARNING:tensorflow:From <ipython-input-19-3234ae67ec70>:5: flatten (from tensorflow.python.layers.core) is deprecated and will be removed in a future version.\n",
            "Instructions for updating:\n",
            "Use keras.layers.flatten instead.\n",
            "WARNING:tensorflow:From <ipython-input-19-3234ae67ec70>:6: dense (from tensorflow.python.layers.core) is deprecated and will be removed in a future version.\n",
            "Instructions for updating:\n",
            "Use keras.layers.dense instead.\n",
            "WARNING:tensorflow:From /usr/local/lib/python3.6/dist-packages/tensorflow/python/ops/losses/losses_impl.py:121: add_dispatch_support.<locals>.wrapper (from tensorflow.python.ops.array_ops) is deprecated and will be removed in a future version.\n",
            "Instructions for updating:\n",
            "Use tf.where in 2.0, which has the same broadcast rule as np.where\n"
          ],
          "name": "stdout"
        }
      ]
    },
    {
      "cell_type": "code",
      "metadata": {
        "id": "IkuVtfVfoJw-",
        "colab_type": "code",
        "colab": {}
      },
      "source": [
        "train_x = np.expand_dims(train_x,-1)/255.\n",
        "train_y = np.expand_dims(train_y,-1)\n",
        "test_x = np.expand_dims(test_x,-1)/255.\n",
        "test_y = np.expand_dims(test_y,-1)"
      ],
      "execution_count": 0,
      "outputs": []
    },
    {
      "cell_type": "code",
      "metadata": {
        "id": "ZAAKJJfUoLpt",
        "colab_type": "code",
        "outputId": "2a3a33dc-eda5-4f03-ecd5-b500938e14d3",
        "colab": {
          "base_uri": "https://localhost:8080/",
          "height": 35
        }
      },
      "source": [
        "train_x.shape, train_y.shape, test_x.shape, test_y.shape"
      ],
      "execution_count": 0,
      "outputs": [
        {
          "output_type": "execute_result",
          "data": {
            "text/plain": [
              "((60000, 28, 28, 1), (60000, 1), (10000, 28, 28, 1), (10000, 1))"
            ]
          },
          "metadata": {
            "tags": []
          },
          "execution_count": 21
        }
      ]
    },
    {
      "cell_type": "code",
      "metadata": {
        "id": "GaXRmuKnoYmE",
        "colab_type": "code",
        "colab": {}
      },
      "source": [
        "bs = 32\n",
        "num_epochs = 5\n",
        "sess = tf.Session()\n",
        "sess.run(tf.global_variables_initializer())\n",
        "sess.run(tf.local_variables_initializer())"
      ],
      "execution_count": 0,
      "outputs": []
    },
    {
      "cell_type": "code",
      "metadata": {
        "id": "Wlzhlmv2tkfT",
        "colab_type": "code",
        "outputId": "e452066d-9625-4016-de70-c9fbbebadd48",
        "colab": {
          "base_uri": "https://localhost:8080/",
          "height": 35
        }
      },
      "source": [
        "pbar = tqdm(range(num_epochs))\n",
        "for epoch in pbar:\n",
        "    losses = []\n",
        "    accs = []\n",
        "    for i in range(0,train_x.shape[0],bs):\n",
        "        _, loss, _, acc = sess.run([train_op, loss_t, acc_update, acc_t],\n",
        "                                   feed_dict={\n",
        "                                       inp_t: train_x[:bs,...],\n",
        "                                       target_t: train_y[:bs,...] \n",
        "                                   })\n",
        "        losses.append(loss)\n",
        "        accs.append(acc)\n",
        "    pbar.set_description('Epoch %2d: loss=%2.5f, acc=%2.5f' %\n",
        "          (epoch,sum(losses)/len(losses),sum(accs)/len(accs)))\n",
        "sess.close()"
      ],
      "execution_count": 0,
      "outputs": [
        {
          "output_type": "stream",
          "text": [
            "Epoch  4: loss=0.00000, acc=0.99943: 100%|██████████| 5/5 [00:27<00:00,  5.59s/it]\n"
          ],
          "name": "stderr"
        }
      ]
    },
    {
      "cell_type": "code",
      "metadata": {
        "id": "E6c5Ya1Lt5gz",
        "colab_type": "code",
        "outputId": "d3d14e59-648e-4527-ac61-60b6d74cfb8a",
        "colab": {
          "base_uri": "https://localhost:8080/",
          "height": 35
        }
      },
      "source": [
        "tf.reset_default_graph()\n",
        "data_X = tf.data.Dataset.from_tensor_slices(train_x.astype(np.float32))\n",
        "data_Y = tf.data.Dataset.from_tensor_slices(train_y.astype(np.int32))\n",
        "dataset = tf.data.Dataset.zip((data_X,data_Y)).shuffle(buffer_size = 1000).batch(bs)\n",
        "print(dataset)"
      ],
      "execution_count": 0,
      "outputs": [
        {
          "output_type": "stream",
          "text": [
            "<DatasetV1Adapter shapes: ((?, 28, 28, 1), (?, 1)), types: (tf.float32, tf.int32)>\n"
          ],
          "name": "stdout"
        }
      ]
    },
    {
      "cell_type": "code",
      "metadata": {
        "id": "bVE23zAMxIkJ",
        "colab_type": "code",
        "outputId": "07980c8b-350d-40f4-fd78-64ad06a23366",
        "colab": {
          "base_uri": "https://localhost:8080/",
          "height": 55
        }
      },
      "source": [
        "iterator = dataset.make_initializable_iterator()\n",
        "X_t, Y_t = iterator.get_next()\n",
        "Y_logits_t = tf.squeeze(tf.one_hot(Y_t,num_classes),axis=1)\n",
        "print(X_t,Y_t,Y_logits_t)"
      ],
      "execution_count": 0,
      "outputs": [
        {
          "output_type": "stream",
          "text": [
            "Tensor(\"IteratorGetNext:0\", shape=(?, 28, 28, 1), dtype=float32) Tensor(\"IteratorGetNext:1\", shape=(?, 1), dtype=int32) Tensor(\"Squeeze:0\", shape=(?, 10), dtype=float32)\n"
          ],
          "name": "stdout"
        }
      ]
    },
    {
      "cell_type": "code",
      "metadata": {
        "id": "ICg812M7wDSc",
        "colab_type": "code",
        "colab": {}
      },
      "source": [
        "x = tf.layers.conv2d(X_t,32,[3,3],padding='same')\n",
        "x = tf.layers.batch_normalization(x)\n",
        "x = tf.layers.max_pooling2d(x,2,2)\n",
        "f = tf.layers.flatten(x)\n",
        "logits_t = tf.layers.dense(f,10)\n",
        "pred_t = tf.argmax(tf.nn.softmax(logits_t,axis=-1),axis=-1)\n",
        "loss_t = tf.losses.softmax_cross_entropy(Y_logits_t,logits_t)\n",
        "\n",
        "optimizer = tf.train.AdamOptimizer(learning_rate=0.001)\n",
        "global_step = tf.train.get_global_step()\n",
        "\n",
        "gradients, variables = zip(*optimizer.compute_gradients(loss_t))\n",
        "gradients = [ None if gradient is None else tf.clip_by_value(gradient, -1,1)\n",
        "    for gradient in gradients]\n",
        "gvs = zip(gradients,variables)\n",
        "train_op = optimizer.apply_gradients(gvs,global_step=global_step)\n",
        "\n",
        "acc_t, acc_update = tf.metrics.accuracy(Y_t,pred_t)"
      ],
      "execution_count": 0,
      "outputs": []
    },
    {
      "cell_type": "code",
      "metadata": {
        "id": "zdFJ2PYdx0Z6",
        "colab_type": "code",
        "colab": {}
      },
      "source": [
        "sess = tf.Session()\n",
        "sess.run(tf.global_variables_initializer())\n",
        "sess.run(tf.local_variables_initializer())\n"
      ],
      "execution_count": 0,
      "outputs": []
    },
    {
      "cell_type": "code",
      "metadata": {
        "id": "BKf8MKUOyKaK",
        "colab_type": "code",
        "outputId": "bc89ed10-4168-4992-c87c-48c410968f58",
        "colab": {
          "base_uri": "https://localhost:8080/",
          "height": 231
        }
      },
      "source": [
        "pbar = tqdm(range(num_epochs))\n",
        "for epoch in pbar:\n",
        "    sess.run(iterator.initializer)\n",
        "    losses = []\n",
        "    accs = []\n",
        "    while True:\n",
        "        try:\n",
        "            _, loss, _, acc = sess.run([train_op, loss_t, acc_update, acc_t])\n",
        "            losses.append(loss)\n",
        "            accs.append(acc)\n",
        "        except tf.errors.OutOfRangeError:\n",
        "            break\n",
        "    pbar.set_description('Epoch %2d: loss=%2.5f, acc=%2.5f' %\n",
        "          (epoch,sum(losses)/len(losses),sum(accs)/len(accs)))\n",
        "    "
      ],
      "execution_count": 0,
      "outputs": [
        {
          "output_type": "stream",
          "text": [
            "\n",
            "  0%|          | 0/5 [00:00<?, ?it/s]\u001b[A\n",
            "Epoch  0: loss=0.24554, acc=0.88533:   0%|          | 0/5 [00:05<?, ?it/s]\u001b[A\n",
            "Epoch  0: loss=0.24554, acc=0.88533:  20%|██        | 1/5 [00:05<00:22,  5.61s/it]\u001b[A\n",
            "Epoch  1: loss=0.10887, acc=0.94192:  20%|██        | 1/5 [00:10<00:22,  5.61s/it]\u001b[A\n",
            "Epoch  1: loss=0.10887, acc=0.94192:  40%|████      | 2/5 [00:10<00:16,  5.36s/it]\u001b[A\n",
            "Epoch  2: loss=0.08071, acc=0.95455:  40%|████      | 2/5 [00:15<00:16,  5.36s/it]\u001b[A\n",
            "Epoch  2: loss=0.08071, acc=0.95455:  60%|██████    | 3/5 [00:15<00:10,  5.20s/it]\u001b[A\n",
            "Epoch  3: loss=0.06439, acc=0.96147:  60%|██████    | 3/5 [00:19<00:10,  5.20s/it]\u001b[A\n",
            "Epoch  3: loss=0.06439, acc=0.96147:  80%|████████  | 4/5 [00:19<00:05,  5.07s/it]\u001b[A\n",
            "Epoch  4: loss=0.05474, acc=0.96597:  80%|████████  | 4/5 [00:24<00:05,  5.07s/it]\u001b[A\n",
            "Epoch  4: loss=0.05474, acc=0.96597: 100%|██████████| 5/5 [00:24<00:00,  5.02s/it]\u001b[A\n",
            "\u001b[A"
          ],
          "name": "stderr"
        }
      ]
    },
    {
      "cell_type": "code",
      "metadata": {
        "id": "RdcAiOMHzMEp",
        "colab_type": "code",
        "colab": {}
      },
      "source": [
        "sess.close()"
      ],
      "execution_count": 0,
      "outputs": []
    },
    {
      "cell_type": "code",
      "metadata": {
        "id": "MMmuHwkR0Qe5",
        "colab_type": "code",
        "colab": {}
      },
      "source": [
        ""
      ],
      "execution_count": 0,
      "outputs": []
    }
  ]
}