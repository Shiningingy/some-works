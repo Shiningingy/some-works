{
  "nbformat": 4,
  "nbformat_minor": 0,
  "metadata": {
    "colab": {
      "name": "tf2.0",
      "version": "0.3.2",
      "provenance": [],
      "collapsed_sections": []
    },
    "kernelspec": {
      "name": "python3",
      "display_name": "Python 3"
    },
    "accelerator": "GPU"
  },
  "cells": [
    {
      "cell_type": "markdown",
      "metadata": {
        "id": "FCQbKpmdyqY6",
        "colab_type": "text"
      },
      "source": [
        "# Tutorial For Tensorflow 2.0 CISC/CMPE 452 / CISC 874 / COGS 400\n",
        "\n",
        "This tutorial is split into two parts. The first part will go over a simple linear function optimization using tensorflow. The second part will go over using tensorflow 2.0 to solve the MNIST DIGIT classification challenge and has a useful example of how to load the data for MNIST into your python environment using tensorflow/keras.\n",
        "\n",
        "In Tensorflow 2.0, the majority of the environment is in 'Eager Execution'. This means that, like typical python, it is a define by run environment. If you are worried about speed, training steps and tensor executions can be run inside a tf.funciton wrapped function. This will make tensorflow auto-graph and optimize the graph for the function execution.\n",
        "\n",
        "Finally, I recommend always having the API for Tensorflow 2.0 up while coding, so here it is: [TF-2.0](https://www.tensorflow.org/versions/r2.0/api_docs/python/tf)"
      ]
    },
    {
      "cell_type": "code",
      "metadata": {
        "id": "7Ma6KdTYkDhw",
        "colab_type": "code",
        "outputId": "0e1a46aa-308a-4338-8c9e-748fefda1262",
        "colab": {
          "base_uri": "https://localhost:8080/",
          "height": 642
        }
      },
      "source": [
        "!pip install tensorflow-gpu==2.0.0rc numpy tqdm matplotlib --no-cache-dir"
      ],
      "execution_count": 0,
      "outputs": [
        {
          "output_type": "stream",
          "text": [
            "Collecting tensorflow-gpu==2.0.0rc\n",
            "\u001b[?25l  Downloading https://files.pythonhosted.org/packages/6a/12/8c64cc62149cc21c70c55018502831bbf4d42bd62bed196df7de6830d21b/tensorflow_gpu-2.0.0rc0-cp36-cp36m-manylinux2010_x86_64.whl (380.5MB)\n",
            "\u001b[K     |████████████████████████████████| 380.5MB 1.9MB/s \n",
            "\u001b[?25hRequirement already satisfied: numpy in /usr/local/lib/python3.6/dist-packages (1.16.5)\n",
            "Requirement already satisfied: tqdm in /usr/local/lib/python3.6/dist-packages (4.28.1)\n",
            "Requirement already satisfied: matplotlib in /usr/local/lib/python3.6/dist-packages (3.0.3)\n",
            "Requirement already satisfied: termcolor>=1.1.0 in /usr/local/lib/python3.6/dist-packages (from tensorflow-gpu==2.0.0rc) (1.1.0)\n",
            "Collecting tf-estimator-nightly<1.14.0.dev2019080602,>=1.14.0.dev2019080601 (from tensorflow-gpu==2.0.0rc)\n",
            "\u001b[?25l  Downloading https://files.pythonhosted.org/packages/21/28/f2a27a62943d5f041e4a6fd404b2d21cb7c59b2242a4e73b03d9ba166552/tf_estimator_nightly-1.14.0.dev2019080601-py2.py3-none-any.whl (501kB)\n",
            "\u001b[K     |████████████████████████████████| 501kB 43.5MB/s \n",
            "\u001b[?25hRequirement already satisfied: wrapt>=1.11.1 in /usr/local/lib/python3.6/dist-packages (from tensorflow-gpu==2.0.0rc) (1.11.2)\n",
            "Requirement already satisfied: keras-preprocessing>=1.0.5 in /usr/local/lib/python3.6/dist-packages (from tensorflow-gpu==2.0.0rc) (1.1.0)\n",
            "Requirement already satisfied: wheel>=0.26 in /usr/local/lib/python3.6/dist-packages (from tensorflow-gpu==2.0.0rc) (0.33.6)\n",
            "Requirement already satisfied: opt-einsum>=2.3.2 in /usr/local/lib/python3.6/dist-packages (from tensorflow-gpu==2.0.0rc) (3.0.1)\n",
            "Requirement already satisfied: grpcio>=1.8.6 in /usr/local/lib/python3.6/dist-packages (from tensorflow-gpu==2.0.0rc) (1.15.0)\n",
            "Requirement already satisfied: absl-py>=0.7.0 in /usr/local/lib/python3.6/dist-packages (from tensorflow-gpu==2.0.0rc) (0.8.0)\n",
            "Requirement already satisfied: six>=1.10.0 in /usr/local/lib/python3.6/dist-packages (from tensorflow-gpu==2.0.0rc) (1.12.0)\n",
            "Requirement already satisfied: gast>=0.2.0 in /usr/local/lib/python3.6/dist-packages (from tensorflow-gpu==2.0.0rc) (0.2.2)\n",
            "Requirement already satisfied: protobuf>=3.6.1 in /usr/local/lib/python3.6/dist-packages (from tensorflow-gpu==2.0.0rc) (3.7.1)\n",
            "Collecting tb-nightly<1.15.0a20190807,>=1.15.0a20190806 (from tensorflow-gpu==2.0.0rc)\n",
            "\u001b[?25l  Downloading https://files.pythonhosted.org/packages/bc/88/24b5fb7280e74c7cf65bde47c171547fd02afb3840cff41bcbe9270650f5/tb_nightly-1.15.0a20190806-py3-none-any.whl (4.3MB)\n",
            "\u001b[K     |████████████████████████████████| 4.3MB 35.7MB/s \n",
            "\u001b[?25hRequirement already satisfied: astor>=0.6.0 in /usr/local/lib/python3.6/dist-packages (from tensorflow-gpu==2.0.0rc) (0.8.0)\n",
            "Requirement already satisfied: keras-applications>=1.0.8 in /usr/local/lib/python3.6/dist-packages (from tensorflow-gpu==2.0.0rc) (1.0.8)\n",
            "Requirement already satisfied: google-pasta>=0.1.6 in /usr/local/lib/python3.6/dist-packages (from tensorflow-gpu==2.0.0rc) (0.1.7)\n",
            "Requirement already satisfied: cycler>=0.10 in /usr/local/lib/python3.6/dist-packages (from matplotlib) (0.10.0)\n",
            "Requirement already satisfied: python-dateutil>=2.1 in /usr/local/lib/python3.6/dist-packages (from matplotlib) (2.5.3)\n",
            "Requirement already satisfied: pyparsing!=2.0.4,!=2.1.2,!=2.1.6,>=2.0.1 in /usr/local/lib/python3.6/dist-packages (from matplotlib) (2.4.2)\n",
            "Requirement already satisfied: kiwisolver>=1.0.1 in /usr/local/lib/python3.6/dist-packages (from matplotlib) (1.1.0)\n",
            "Requirement already satisfied: setuptools in /usr/local/lib/python3.6/dist-packages (from protobuf>=3.6.1->tensorflow-gpu==2.0.0rc) (41.2.0)\n",
            "Requirement already satisfied: markdown>=2.6.8 in /usr/local/lib/python3.6/dist-packages (from tb-nightly<1.15.0a20190807,>=1.15.0a20190806->tensorflow-gpu==2.0.0rc) (3.1.1)\n",
            "Requirement already satisfied: werkzeug>=0.11.15 in /usr/local/lib/python3.6/dist-packages (from tb-nightly<1.15.0a20190807,>=1.15.0a20190806->tensorflow-gpu==2.0.0rc) (0.15.6)\n",
            "Requirement already satisfied: h5py in /usr/local/lib/python3.6/dist-packages (from keras-applications>=1.0.8->tensorflow-gpu==2.0.0rc) (2.8.0)\n",
            "Installing collected packages: tf-estimator-nightly, tb-nightly, tensorflow-gpu\n",
            "Successfully installed tb-nightly-1.15.0a20190806 tensorflow-gpu-2.0.0rc0 tf-estimator-nightly-1.14.0.dev2019080601\n"
          ],
          "name": "stdout"
        }
      ]
    },
    {
      "cell_type": "code",
      "metadata": {
        "id": "zgTWtGwAkTSb",
        "colab_type": "code",
        "colab": {}
      },
      "source": [
        "import tensorflow as tf\n",
        "import numpy as np\n",
        "from tqdm import tqdm\n",
        "from matplotlib import pyplot as plt"
      ],
      "execution_count": 0,
      "outputs": []
    },
    {
      "cell_type": "code",
      "metadata": {
        "id": "HMvKNEg4kw-X",
        "colab_type": "code",
        "outputId": "fa0e87ba-2b2c-43ef-9b4f-ffe0b1e16884",
        "colab": {
          "base_uri": "https://localhost:8080/",
          "height": 35
        }
      },
      "source": [
        "tf.__version__"
      ],
      "execution_count": 0,
      "outputs": [
        {
          "output_type": "execute_result",
          "data": {
            "text/plain": [
              "'2.0.0-rc0'"
            ]
          },
          "metadata": {
            "tags": []
          },
          "execution_count": 4
        }
      ]
    },
    {
      "cell_type": "markdown",
      "metadata": {
        "id": "zF_cus8g0Ui0",
        "colab_type": "text"
      },
      "source": [
        "# Linear Function Optimization\n",
        "\n",
        "This section goes over creating a small dataset of a noisy linear function and using tensorflow 2.0 to solve it."
      ]
    },
    {
      "cell_type": "code",
      "metadata": {
        "id": "eunJc8V6kz8S",
        "colab_type": "code",
        "outputId": "8bf70322-7322-4f88-8ae0-34111c81cdbe",
        "colab": {
          "base_uri": "https://localhost:8080/",
          "height": 35
        }
      },
      "source": [
        "X = np.random.normal(0.0,0.1,1000).astype(np.float32)\n",
        "noise = np.random.normal(0.0,0.5,1000)\n",
        "X.shape"
      ],
      "execution_count": 0,
      "outputs": [
        {
          "output_type": "execute_result",
          "data": {
            "text/plain": [
              "(1000,)"
            ]
          },
          "metadata": {
            "tags": []
          },
          "execution_count": 5
        }
      ]
    },
    {
      "cell_type": "code",
      "metadata": {
        "id": "kFzs3dXxlH3f",
        "colab_type": "code",
        "outputId": "1c93de9c-4f43-44c6-c747-02c8d3af1db4",
        "colab": {
          "base_uri": "https://localhost:8080/",
          "height": 71
        }
      },
      "source": [
        "true_W = np.random.rand()*100\n",
        "true_B = np.random.rand()*100\n",
        "\n",
        "Y = (true_W*X + true_B + noise).astype(np.float32)\n",
        "print(\"True_W: \",true_W)\n",
        "print(\"True_B: \",true_B)\n",
        "print(\"Shape: \",Y.shape)"
      ],
      "execution_count": 0,
      "outputs": [
        {
          "output_type": "stream",
          "text": [
            "True_W:  33.09200950692953\n",
            "True_B:  98.35520464560571\n",
            "Shape:  (1000,)\n"
          ],
          "name": "stdout"
        }
      ]
    },
    {
      "cell_type": "code",
      "metadata": {
        "id": "AvCPiKg0qAFR",
        "colab_type": "code",
        "outputId": "5b28638e-b03a-4723-a104-7010fe0b712a",
        "colab": {
          "base_uri": "https://localhost:8080/",
          "height": 287
        }
      },
      "source": [
        "plt.plot(X[:],Y[:],'.')"
      ],
      "execution_count": 0,
      "outputs": [
        {
          "output_type": "execute_result",
          "data": {
            "text/plain": [
              "[<matplotlib.lines.Line2D at 0x7f4a7123e358>]"
            ]
          },
          "metadata": {
            "tags": []
          },
          "execution_count": 7
        },
        {
          "output_type": "display_data",
          "data": {
            "image/png": "[encoded data removed]",
            "text/plain": [
              "<Figure size 432x288 with 1 Axes>"
            ]
          },
          "metadata": {
            "tags": []
          }
        }
      ]
    },
    {
      "cell_type": "code",
      "metadata": {
        "id": "Z39CxXFvlcdN",
        "colab_type": "code",
        "colab": {}
      },
      "source": [
        "class Model(object):\n",
        "  def __init__(self):\n",
        "    self.W = tf.Variable(5.0,dtype=tf.float32)\n",
        "    self.B = tf.Variable(0.0,dtype=tf.float32)\n",
        "  def __call__(self,x):\n",
        "    return self.W * x + self.B\n",
        "  \n",
        "model = Model()"
      ],
      "execution_count": 0,
      "outputs": []
    },
    {
      "cell_type": "code",
      "metadata": {
        "id": "HKHamRmzmWn6",
        "colab_type": "code",
        "colab": {}
      },
      "source": [
        "def loss(pred_y, target_y):\n",
        "  return tf.reduce_mean(tf.square(pred_y - target_y))"
      ],
      "execution_count": 0,
      "outputs": []
    },
    {
      "cell_type": "code",
      "metadata": {
        "id": "BfgdCvSNmYB3",
        "colab_type": "code",
        "colab": {}
      },
      "source": [
        "@tf.function\n",
        "def train(model,inputs,outputs,lr):\n",
        "  with tf.GradientTape() as t:\n",
        "    current_loss = loss(model(inputs),outputs)\n",
        "  dW, db = t.gradient(current_loss,[model.W, model.B])\n",
        "  model.W.assign_sub(lr * dW)\n",
        "  model.B.assign_sub(lr * db)\n",
        "  return current_loss"
      ],
      "execution_count": 0,
      "outputs": []
    },
    {
      "cell_type": "code",
      "metadata": {
        "id": "GH-lOVIvoPRC",
        "colab_type": "code",
        "outputId": "71ace718-de49-44eb-fe1d-561ace1293d8",
        "colab": {
          "base_uri": "https://localhost:8080/",
          "height": 35
        }
      },
      "source": [
        "Ws, Bs = [], []\n",
        "lr = 1\n",
        "pbar = tqdm(range(1000))\n",
        "for epoch in pbar:\n",
        "  Ws.append(model.W.numpy())\n",
        "  Bs.append(model.B.numpy())\n",
        "  \n",
        "  current_loss = train(model,X, Y,lr=lr)\n",
        "  if epoch%100 == 0:\n",
        "    lr *= 0.9\n",
        "    pbar.set_description('Epoch %2d: W=%1.2f b=%1.2f, loss=%2.5f lr=%1.4f' %\n",
        "          (epoch, Ws[-1], Bs[-1], current_loss,lr))\n",
        "\n"
      ],
      "execution_count": 0,
      "outputs": [
        {
          "output_type": "stream",
          "text": [
            "Epoch 900: W=32.89 b=98.37, loss=0.26475 lr=0.3487: 100%|██████████| 1000/1000 [00:02<00:00, 407.57it/s]\n"
          ],
          "name": "stderr"
        }
      ]
    },
    {
      "cell_type": "code",
      "metadata": {
        "id": "XEEdYeLjo6CV",
        "colab_type": "code",
        "outputId": "e3cf7671-ba12-485c-bb37-ad675f1bf31d",
        "colab": {
          "base_uri": "https://localhost:8080/",
          "height": 287
        }
      },
      "source": [
        "plt.plot(X,Y,'b*')\n",
        "plt.plot(X,model(X),'r--')"
      ],
      "execution_count": 0,
      "outputs": [
        {
          "output_type": "execute_result",
          "data": {
            "text/plain": [
              "[<matplotlib.lines.Line2D at 0x7f4a21882b70>]"
            ]
          },
          "metadata": {
            "tags": []
          },
          "execution_count": 12
        },
        {
          "output_type": "display_data",
          "data": {
            "image/png": "[encoded data removed]",
            "text/plain": [
              "<Figure size 432x288 with 1 Axes>"
            ]
          },
          "metadata": {
            "tags": []
          }
        }
      ]
    },
    {
      "cell_type": "markdown",
      "metadata": {
        "id": "zxrfQNNI0lF6",
        "colab_type": "text"
      },
      "source": [
        "# MNIST Challenge\n",
        "\n",
        "This section uses tf.keras.datasets to load the MNIST dataset and TF2.0 to optimize a simple neural network to solve the digit classification challenge. This is a quick and easy way to create custom models and custom training loops. "
      ]
    },
    {
      "cell_type": "code",
      "metadata": {
        "id": "bCWJIeYx3Oe6",
        "colab_type": "code",
        "outputId": "edc1271a-60f4-4214-e1e7-f631fde063ee",
        "colab": {
          "base_uri": "https://localhost:8080/",
          "height": 71
        }
      },
      "source": [
        "(train_x,train_y),(test_x,test_y) = tf.keras.datasets.mnist.load_data()\n",
        "num_classes = 10\n",
        "bs = 256\n",
        "num_epochs = 10\n",
        "print(train_x.shape,train_y.shape,test_x.shape,test_y.shape)"
      ],
      "execution_count": 0,
      "outputs": [
        {
          "output_type": "stream",
          "text": [
            "Downloading data from https://storage.googleapis.com/tensorflow/tf-keras-datasets/mnist.npz\n",
            "11493376/11490434 [==============================] - 0s 0us/step\n",
            "(60000, 28, 28) (60000,) (10000, 28, 28) (10000,)\n"
          ],
          "name": "stdout"
        }
      ]
    },
    {
      "cell_type": "code",
      "metadata": {
        "id": "W7XU95R11HtJ",
        "colab_type": "code",
        "colab": {}
      },
      "source": [
        "train_x, test_x = train_x/255., test_x/255.\n",
        "train_x = np.expand_dims(train_x,-1)\n",
        "train_y = np.expand_dims(train_y,-1)\n",
        "test_x = np.expand_dims(test_x,-1)\n",
        "test_y = np.expand_dims(test_y,-1)"
      ],
      "execution_count": 0,
      "outputs": []
    },
    {
      "cell_type": "code",
      "metadata": {
        "id": "cO1P3fRt1pnn",
        "colab_type": "code",
        "colab": {}
      },
      "source": [
        "train_ds = tf.data.Dataset.from_tensor_slices((train_x,train_y)).shuffle(1000).batch(bs)\n",
        "test_ds = tf.data.Dataset.from_tensor_slices((test_x,test_y)).shuffle(1000).batch(bs)"
      ],
      "execution_count": 0,
      "outputs": []
    },
    {
      "cell_type": "code",
      "metadata": {
        "id": "Y2AT6rrV10BT",
        "colab_type": "code",
        "colab": {}
      },
      "source": [
        "class MNIST_Model(tf.keras.Model):\n",
        "    def __init__(self,num_classes = 10):\n",
        "        super(MNIST_Model,self).__init__()\n",
        "        self.num_classes = num_classes\n",
        "        self.conv1 = tf.keras.layers.Conv2D(32,[3,3],padding='same',activation=tf.nn.relu)\n",
        "        self.b1 = tf.keras.layers.BatchNormalization()\n",
        "        self.m1 = tf.keras.layers.MaxPool2D((2,2),2)\n",
        "        self.f = tf.keras.layers.Flatten()\n",
        "        self.d = tf.keras.layers.Dense(128,activation=tf.nn.relu)\n",
        "        self.o = tf.keras.layers.Dense(num_classes,activation=tf.nn.softmax)\n",
        "\n",
        "\n",
        "    def call(self,x):\n",
        "        x = self.conv1(x)\n",
        "        x = self.b1(x)\n",
        "        x = self.m1(x)\n",
        "        x = self.f(x)\n",
        "        x = self.o(x)\n",
        "        return x"
      ],
      "execution_count": 0,
      "outputs": []
    },
    {
      "cell_type": "code",
      "metadata": {
        "id": "q3GK65eO2_RA",
        "colab_type": "code",
        "colab": {}
      },
      "source": [
        "model = MNIST_Model(num_classes)"
      ],
      "execution_count": 0,
      "outputs": []
    },
    {
      "cell_type": "code",
      "metadata": {
        "id": "S_Su-iNU2_yP",
        "colab_type": "code",
        "colab": {}
      },
      "source": [
        "loss_obj = tf.keras.losses.SparseCategoricalCrossentropy()\n",
        "optimizer = tf.keras.optimizers.Adam()"
      ],
      "execution_count": 0,
      "outputs": []
    },
    {
      "cell_type": "code",
      "metadata": {
        "id": "Qp-6DPUq4g3_",
        "colab_type": "code",
        "colab": {}
      },
      "source": [
        "train_loss = tf.keras.metrics.Mean()\n",
        "train_acc = tf.keras.metrics.SparseCategoricalAccuracy()\n",
        "\n",
        "test_acc = tf.keras.metrics.SparseCategoricalAccuracy()"
      ],
      "execution_count": 0,
      "outputs": []
    },
    {
      "cell_type": "code",
      "metadata": {
        "id": "0p693V_G4pYH",
        "colab_type": "code",
        "colab": {}
      },
      "source": [
        "@tf.function\n",
        "def train_step(inp, labels):\n",
        "    with tf.GradientTape() as tape:\n",
        "        preds = model(tf.cast(inp,tf.float32))\n",
        "        loss = loss_obj(labels,preds)\n",
        "    gradients = tape.gradient(loss,model.trainable_variables)\n",
        "    optimizer.apply_gradients(zip(gradients,model.trainable_variables))\n",
        "\n",
        "    train_loss(loss)\n",
        "    train_acc(labels,preds)\n",
        "\n"
      ],
      "execution_count": 0,
      "outputs": []
    },
    {
      "cell_type": "code",
      "metadata": {
        "id": "ffQ-jqfm5I7v",
        "colab_type": "code",
        "outputId": "3d4b3763-17da-4a5a-b11f-3262d3517b22",
        "colab": {
          "base_uri": "https://localhost:8080/",
          "height": 35
        }
      },
      "source": [
        "pbar = tqdm(range(num_epochs))\n",
        "for epoch in pbar:\n",
        "    train_loss.reset_states()\n",
        "    train_acc.reset_states()\n",
        "    for inp,labels in train_ds:\n",
        "        train_step(inp,labels)\n",
        "    pbar.set_description('Epoch %2d: loss=%2.5f, acc=%2.5f' %\n",
        "          (epoch,train_loss.result().numpy(),train_acc.result().numpy()))"
      ],
      "execution_count": 0,
      "outputs": [
        {
          "output_type": "stream",
          "text": [
            "Epoch  9: loss=0.03838, acc=0.98882: 100%|██████████| 10/10 [00:24<00:00,  2.22s/it]\n"
          ],
          "name": "stderr"
        }
      ]
    },
    {
      "cell_type": "code",
      "metadata": {
        "id": "fYtKdYnY5M4H",
        "colab_type": "code",
        "colab": {}
      },
      "source": [
        "@tf.function\n",
        "def test_step(inp,labels):\n",
        "    preds = model(inp)\n",
        "    test_acc(labels,preds)"
      ],
      "execution_count": 0,
      "outputs": []
    },
    {
      "cell_type": "code",
      "metadata": {
        "id": "M97catok-b9u",
        "colab_type": "code",
        "outputId": "d9e3fd5d-ec62-491b-a2fd-86f2321eb9b8",
        "colab": {
          "base_uri": "https://localhost:8080/",
          "height": 162
        }
      },
      "source": [
        "for inp,labels in test_ds:\n",
        "    test_step(inp,labels)\n",
        "print(\"Final accuracy: %.4f\" %(test_acc.result().numpy()))"
      ],
      "execution_count": 0,
      "outputs": [
        {
          "output_type": "stream",
          "text": [
            "WARNING:tensorflow:Layer mnist__model is casting an input tensor from dtype float64 to the layer's dtype of float32, which is new behavior in TensorFlow 2.  The layer has dtype float32 because it's dtype defaults to floatx.\n",
            "\n",
            "If you intended to run this layer in float32, you can safely ignore this warning. If in doubt, this warning is likely only an issue if you are porting a TensorFlow 1.X model to TensorFlow 2.\n",
            "\n",
            "To change all layers to have dtype float64 by default, call `tf.keras.backend.set_floatx('float64')`. To change just this layer, pass dtype='float64' to the layer constructor. If you are the author of this layer, you can disable autocasting by passing autocast=False to the base Layer constructor.\n",
            "\n",
            "Final accuracy: 0.9823\n"
          ],
          "name": "stdout"
        }
      ]
    },
    {
      "cell_type": "code",
      "metadata": {
        "id": "gzU295C5-nBq",
        "colab_type": "code",
        "outputId": "491b21e1-32ba-4dbb-a5ad-080b21420fc3",
        "colab": {
          "base_uri": "https://localhost:8080/",
          "height": 358
        }
      },
      "source": [
        "inp,labels = next(test_ds.__iter__())\n",
        "ind = np.random.randint(0,inp.shape[0])\n",
        "plt.imshow(inp[ind,:,:,0])\n",
        "plt.show()\n",
        "print(labels[ind,...])\n",
        "print(model(inp)[ind,...])\n",
        "print(tf.argmax(model(inp)[ind,...]))"
      ],
      "execution_count": 0,
      "outputs": [
        {
          "output_type": "display_data",
          "data": {
            "image/png": "[encoded data removed]",
            "text/plain": [
              "<Figure size 432x288 with 1 Axes>"
            ]
          },
          "metadata": {
            "tags": []
          }
        },
        {
          "output_type": "stream",
          "text": [
            "tf.Tensor([1], shape=(1,), dtype=uint8)\n",
            "tf.Tensor(\n",
            "[4.7426440e-08 9.9987626e-01 6.4554882e-07 4.2791197e-07 1.0465928e-04\n",
            " 4.5724607e-07 1.4960106e-07 3.2765888e-06 1.2677482e-05 1.4385998e-06], shape=(10,), dtype=float32)\n",
            "tf.Tensor(1, shape=(), dtype=int64)\n"
          ],
          "name": "stdout"
        }
      ]
    },
    {
      "cell_type": "code",
      "metadata": {
        "id": "Ly50MD7ps1vX",
        "colab_type": "code",
        "colab": {}
      },
      "source": [
        ""
      ],
      "execution_count": 0,
      "outputs": []
    }
  ]
}